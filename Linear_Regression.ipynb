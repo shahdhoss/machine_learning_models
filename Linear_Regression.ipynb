{
  "nbformat": 4,
  "nbformat_minor": 0,
  "metadata": {
    "colab": {
      "provenance": []
    },
    "kernelspec": {
      "name": "python3",
      "display_name": "Python 3"
    },
    "language_info": {
      "name": "python"
    }
  },
  "cells": [
    {
      "cell_type": "code",
      "execution_count": null,
      "metadata": {
        "id": "n9Z80kmY8Umq"
      },
      "outputs": [],
      "source": [
        "import pandas as pd\n",
        "import numpy as np\n",
        "import seaborn as sb\n",
        "import matplotlib.pyplot as plt\n",
        "from sklearn.model_selection import train_test_split"
      ]
    },
    {
      "cell_type": "code",
      "source": [
        "# I will use the equation y=3x+4\n",
        "x=[4,7,58,65,10,30]\n",
        "weights=[1,3,3,3,3,3]\n",
        "x=np.asarray(x)"
      ],
      "metadata": {
        "id": "NTNqPAzjDpur"
      },
      "execution_count": null,
      "outputs": []
    },
    {
      "cell_type": "code",
      "source": [
        "y=[]\n",
        "for i in range(len(x)):\n",
        "  y.append((weights[i]*x[i]))\n",
        "print(y)"
      ],
      "metadata": {
        "colab": {
          "base_uri": "https://localhost:8080/"
        },
        "id": "4nTPpPIxD6Md",
        "outputId": "31930ec9-4972-4aa0-c563-d9db1550a59b"
      },
      "execution_count": null,
      "outputs": [
        {
          "output_type": "stream",
          "name": "stdout",
          "text": [
            "[4, 21, 174, 195, 30, 90]\n"
          ]
        }
      ]
    },
    {
      "cell_type": "code",
      "source": [
        "x_train,x_test,y_train,y_test=train_test_split(x,y,test_size=0.3,random_state=True)\n",
        "print(y_test)"
      ],
      "metadata": {
        "colab": {
          "base_uri": "https://localhost:8080/"
        },
        "id": "Dwfn4AO5GLdp",
        "outputId": "b4c84038-d602-4448-c703-e65fbfd778bc"
      },
      "execution_count": null,
      "outputs": [
        {
          "output_type": "stream",
          "name": "stdout",
          "text": [
            "[174, 21]\n"
          ]
        }
      ]
    },
    {
      "cell_type": "code",
      "source": [
        "plt.scatter(x_train,y_train)"
      ],
      "metadata": {
        "colab": {
          "base_uri": "https://localhost:8080/",
          "height": 447
        },
        "id": "tqA6H7xNTYa_",
        "outputId": "51d5732e-7c67-48d8-9bd2-d86fe41ec21b"
      },
      "execution_count": null,
      "outputs": [
        {
          "output_type": "execute_result",
          "data": {
            "text/plain": [
              "<matplotlib.collections.PathCollection at 0x7e9381c07d30>"
            ]
          },
          "metadata": {},
          "execution_count": 90
        },
        {
          "output_type": "display_data",
          "data": {
            "text/plain": [
              "<Figure size 640x480 with 1 Axes>"
            ],
            "image/png": "[encoded data removed]"
          },
          "metadata": {}
        }
      ]
    },
    {
      "cell_type": "code",
      "source": [
        "def msse(x_train,y_train):\n",
        "  x_transpose=x_train.T\n",
        "  xtranspose_timesx=np.dot(x_transpose,x_train)\n",
        "  xtranspose_timesx=xtranspose_timesx.reshape(-1,1)\n",
        "  # print(xtranspose_timesx)\n",
        "  xtranspose_timesx=np.linalg.pinv(xtranspose_timesx)\n",
        "  xtranspose_timesy=np.dot(x_transpose,y_train)\n",
        "  xtranspose_timesy=xtranspose_timesy\n",
        "  weight=np.dot(xtranspose_timesx,xtranspose_timesy)\n",
        "  return weight"
      ],
      "metadata": {
        "id": "0xlIluB6Guyv"
      },
      "execution_count": null,
      "outputs": []
    },
    {
      "cell_type": "code",
      "source": [
        "y_predict=[]\n",
        "weight = msse(x_train,y_train)[0][0]\n",
        "print(weight)\n",
        "for i in range(len(x_test)):\n",
        "  y_predict.append(weight*x_test[i])\n",
        "print(y_test)\n",
        "print(y_predict)"
      ],
      "metadata": {
        "colab": {
          "base_uri": "https://localhost:8080/"
        },
        "id": "zMIF7FoKTr8R",
        "outputId": "9ad2e9d0-3164-4109-8c37-38abbf1e0939"
      },
      "execution_count": null,
      "outputs": [
        {
          "output_type": "stream",
          "name": "stdout",
          "text": [
            "2.9938942949818736\n",
            "[174, 21]\n",
            "[173.64586910894866, 20.957260064873115]\n"
          ]
        }
      ]
    },
    {
      "cell_type": "code",
      "source": [
        "from sklearn.metrics import mean_squared_error, mean_absolute_error\n",
        "mse=mean_squared_error(y_test,y_predict)\n",
        "mae = mean_absolute_error(y_test, y_predict)\n",
        "print(\"this is the weight \",weight)\n",
        "print(\"mean squared error: \",mse)\n",
        "print(\"mean absolute error: \", mae)"
      ],
      "metadata": {
        "colab": {
          "base_uri": "https://localhost:8080/"
        },
        "id": "1dld1eKjV1IZ",
        "outputId": "d9d2dcb2-9d41-4988-975b-21387dc83b57"
      },
      "execution_count": null,
      "outputs": [
        {
          "output_type": "stream",
          "name": "stdout",
          "text": [
            "this is the weight  2.9938942949818736\n",
            "mean squared error:  0.06361769502573349\n",
            "mean absolute error:  0.19843541308911306\n"
          ]
        }
      ]
    },
    {
      "cell_type": "code",
      "source": [
        "# adding noise\n",
        "x=[4,99,7,58,65,10,30]\n",
        "weights=[1,1,3,3,3,3,3]\n",
        "y=[]\n",
        "for i in range(len(x)):\n",
        "  y.append((weights[i]*x[i]))\n",
        "print(y)"
      ],
      "metadata": {
        "id": "5Uzg9hY8dRmW",
        "outputId": "e026ca48-1fc5-4070-b1e6-1b4c65e8d6b4",
        "colab": {
          "base_uri": "https://localhost:8080/"
        }
      },
      "execution_count": null,
      "outputs": [
        {
          "output_type": "stream",
          "name": "stdout",
          "text": [
            "[4, 99, 21, 174, 195, 30, 90]\n"
          ]
        }
      ]
    },
    {
      "cell_type": "code",
      "source": [
        "x_train,x_test,y_train,y_test=train_test_split(x,y,test_size=0.3,random_state=True)\n",
        "print(y_test)"
      ],
      "metadata": {
        "id": "FO_XQ8nueSH0",
        "outputId": "b32e8841-9ce6-4ea0-978b-74b25520db5e",
        "colab": {
          "base_uri": "https://localhost:8080/"
        }
      },
      "execution_count": null,
      "outputs": [
        {
          "output_type": "stream",
          "name": "stdout",
          "text": [
            "[90, 21, 99]\n"
          ]
        }
      ]
    },
    {
      "cell_type": "code",
      "source": [
        "plt.scatter(x_train,y_train)"
      ],
      "metadata": {
        "id": "RU5lO27CeVcG",
        "outputId": "bfba5e7e-fa47-47c9-82ad-1f6ed52a74c1",
        "colab": {
          "base_uri": "https://localhost:8080/",
          "height": 447
        }
      },
      "execution_count": null,
      "outputs": [
        {
          "output_type": "execute_result",
          "data": {
            "text/plain": [
              "<matplotlib.collections.PathCollection at 0x7e9381c8a7a0>"
            ]
          },
          "metadata": {},
          "execution_count": 96
        },
        {
          "output_type": "display_data",
          "data": {
            "text/plain": [
              "<Figure size 640x480 with 1 Axes>"
            ],
            "image/png": "[encoded data removed]"
          },
          "metadata": {}
        }
      ]
    },
    {
      "cell_type": "code",
      "source": [
        "y_predict=[]\n",
        "x_train=np.asarray(x_train)\n",
        "y_train=np.asarray(y_train)\n",
        "weight = msse(x_train,y_train)[0][0]\n",
        "print(\"this is the weight \",weight)\n",
        "for i in range(len(x_test)):\n",
        "  y_predict.append(weight*x_test[i])\n",
        "from sklearn.metrics import mean_squared_error, mean_absolute_error\n",
        "mse=mean_squared_error(y_test,y_predict)\n",
        "mae = mean_absolute_error(y_test, y_predict)\n",
        "print(\"mean squared error: \",mse)\n",
        "print(\"mean absolute error: \", mae)"
      ],
      "metadata": {
        "id": "paVbIVGCecKq",
        "outputId": "322a4d99-6764-4ea8-ecee-b1f6a307523d",
        "colab": {
          "base_uri": "https://localhost:8080/"
        }
      },
      "execution_count": null,
      "outputs": [
        {
          "output_type": "stream",
          "name": "stdout",
          "text": [
            "this is the weight  2.9958468526930564\n",
            "mean squared error:  13013.788478592845\n",
            "mean absolute error:  65.91416828898984\n"
          ]
        }
      ]
    },
    {
      "cell_type": "code",
      "source": [
        "iris_df=pd.read_csv(\"/content/sample_data/Iris.csv\")"
      ],
      "metadata": {
        "id": "vpWXj0AWcuKf"
      },
      "execution_count": null,
      "outputs": []
    },
    {
      "cell_type": "code",
      "source": [
        "def transform_values(df):\n",
        "  for index,row in df.iterrows():\n",
        "    if row['Species'] == 'Iris-setosa':\n",
        "      df.loc[index, 'Species'] = 1\n",
        "    elif row['Species'] =='Iris-virginica' or  row['Species']=='Iris-versicolor':\n",
        "      df.loc[index, 'Species'] = -1\n",
        "transform_values(iris_df)\n",
        "iris_df=iris_df.drop(columns=['Id'])\n",
        "iris_df"
      ],
      "metadata": {
        "id": "sx8MiIAqr9lX",
        "colab": {
          "base_uri": "https://localhost:8080/",
          "height": 423
        },
        "outputId": "4162a56d-ff92-4ff7-a238-513481d110b9"
      },
      "execution_count": null,
      "outputs": [
        {
          "output_type": "execute_result",
          "data": {
            "text/plain": [
              "     SepalLengthCm  SepalWidthCm  PetalLengthCm  PetalWidthCm Species\n",
              "0              5.1           3.5            1.4           0.2       1\n",
              "1              4.9           3.0            1.4           0.2       1\n",
              "2              4.7           3.2            1.3           0.2       1\n",
              "3              4.6           3.1            1.5           0.2       1\n",
              "4              5.0           3.6            1.4           0.2       1\n",
              "..             ...           ...            ...           ...     ...\n",
              "145            6.7           3.0            5.2           2.3      -1\n",
              "146            6.3           2.5            5.0           1.9      -1\n",
              "147            6.5           3.0            5.2           2.0      -1\n",
              "148            6.2           3.4            5.4           2.3      -1\n",
              "149            5.9           3.0            5.1           1.8      -1\n",
              "\n",
              "[150 rows x 5 columns]"
            ],
            "text/html": [
              "\n",
              "  <div id=\"df-e8daa7c9-b2c0-46ba-837f-975cf70d3d44\" class=\"colab-df-container\">\n",
              "    <div>\n",
              "<style scoped>\n",
              "    .dataframe tbody tr th:only-of-type {\n",
              "        vertical-align: middle;\n",
              "    }\n",
              "\n",
              "    .dataframe tbody tr th {\n",
              "        vertical-align: top;\n",
              "    }\n",
              "\n",
              "    .dataframe thead th {\n",
              "        text-align: right;\n",
              "    }\n",
              "</style>\n",
              "<table border=\"1\" class=\"dataframe\">\n",
              "  <thead>\n",
              "    <tr style=\"text-align: right;\">\n",
              "      <th></th>\n",
              "      <th>SepalLengthCm</th>\n",
              "      <th>SepalWidthCm</th>\n",
              "      <th>PetalLengthCm</th>\n",
              "      <th>PetalWidthCm</th>\n",
              "      <th>Species</th>\n",
              "    </tr>\n",
              "  </thead>\n",
              "  <tbody>\n",
              "    <tr>\n",
              "      <th>0</th>\n",
              "      <td>5.1</td>\n",
              "      <td>3.5</td>\n",
              "      <td>1.4</td>\n",
              "      <td>0.2</td>\n",
              "      <td>1</td>\n",
              "    </tr>\n",
              "    <tr>\n",
              "      <th>1</th>\n",
              "      <td>4.9</td>\n",
              "      <td>3.0</td>\n",
              "      <td>1.4</td>\n",
              "      <td>0.2</td>\n",
              "      <td>1</td>\n",
              "    </tr>\n",
              "    <tr>\n",
              "      <th>2</th>\n",
              "      <td>4.7</td>\n",
              "      <td>3.2</td>\n",
              "      <td>1.3</td>\n",
              "      <td>0.2</td>\n",
              "      <td>1</td>\n",
              "    </tr>\n",
              "    <tr>\n",
              "      <th>3</th>\n",
              "      <td>4.6</td>\n",
              "      <td>3.1</td>\n",
              "      <td>1.5</td>\n",
              "      <td>0.2</td>\n",
              "      <td>1</td>\n",
              "    </tr>\n",
              "    <tr>\n",
              "      <th>4</th>\n",
              "      <td>5.0</td>\n",
              "      <td>3.6</td>\n",
              "      <td>1.4</td>\n",
              "      <td>0.2</td>\n",
              "      <td>1</td>\n",
              "    </tr>\n",
              "    <tr>\n",
              "      <th>...</th>\n",
              "      <td>...</td>\n",
              "      <td>...</td>\n",
              "      <td>...</td>\n",
              "      <td>...</td>\n",
              "      <td>...</td>\n",
              "    </tr>\n",
              "    <tr>\n",
              "      <th>145</th>\n",
              "      <td>6.7</td>\n",
              "      <td>3.0</td>\n",
              "      <td>5.2</td>\n",
              "      <td>2.3</td>\n",
              "      <td>-1</td>\n",
              "    </tr>\n",
              "    <tr>\n",
              "      <th>146</th>\n",
              "      <td>6.3</td>\n",
              "      <td>2.5</td>\n",
              "      <td>5.0</td>\n",
              "      <td>1.9</td>\n",
              "      <td>-1</td>\n",
              "    </tr>\n",
              "    <tr>\n",
              "      <th>147</th>\n",
              "      <td>6.5</td>\n",
              "      <td>3.0</td>\n",
              "      <td>5.2</td>\n",
              "      <td>2.0</td>\n",
              "      <td>-1</td>\n",
              "    </tr>\n",
              "    <tr>\n",
              "      <th>148</th>\n",
              "      <td>6.2</td>\n",
              "      <td>3.4</td>\n",
              "      <td>5.4</td>\n",
              "      <td>2.3</td>\n",
              "      <td>-1</td>\n",
              "    </tr>\n",
              "    <tr>\n",
              "      <th>149</th>\n",
              "      <td>5.9</td>\n",
              "      <td>3.0</td>\n",
              "      <td>5.1</td>\n",
              "      <td>1.8</td>\n",
              "      <td>-1</td>\n",
              "    </tr>\n",
              "  </tbody>\n",
              "</table>\n",
              "<p>150 rows × 5 columns</p>\n",
              "</div>\n",
              "    <div class=\"colab-df-buttons\">\n",
              "\n",
              "  <div class=\"colab-df-container\">\n",
              "    <button class=\"colab-df-convert\" onclick=\"convertToInteractive('df-e8daa7c9-b2c0-46ba-837f-975cf70d3d44')\"\n",
              "            title=\"Convert this dataframe to an interactive table.\"\n",
              "            style=\"display:none;\">\n",
              "\n",
              "  <svg xmlns=\"http://www.w3.org/2000/svg\" height=\"24px\" viewBox=\"0 -960 960 960\">\n",
              "    <path d=\"M120-120v-720h720v720H120Zm60-500h600v-160H180v160Zm220 220h160v-160H400v160Zm0 220h160v-160H400v160ZM180-400h160v-160H180v160Zm440 0h160v-160H620v160ZM180-180h160v-160H180v160Zm440 0h160v-160H620v160Z\"/>\n",
              "  </svg>\n",
              "    </button>\n",
              "\n",
              "  <style>\n",
              "    .colab-df-container {\n",
              "      display:flex;\n",
              "      gap: 12px;\n",
              "    }\n",
              "\n",
              "    .colab-df-convert {\n",
              "      background-color: #E8F0FE;\n",
              "      border: none;\n",
              "      border-radius: 50%;\n",
              "      cursor: pointer;\n",
              "      display: none;\n",
              "      fill: #1967D2;\n",
              "      height: 32px;\n",
              "      padding: 0 0 0 0;\n",
              "      width: 32px;\n",
              "    }\n",
              "\n",
              "    .colab-df-convert:hover {\n",
              "      background-color: #E2EBFA;\n",
              "      box-shadow: 0px 1px 2px rgba(60, 64, 67, 0.3), 0px 1px 3px 1px rgba(60, 64, 67, 0.15);\n",
              "      fill: #174EA6;\n",
              "    }\n",
              "\n",
              "    .colab-df-buttons div {\n",
              "      margin-bottom: 4px;\n",
              "    }\n",
              "\n",
              "    [theme=dark] .colab-df-convert {\n",
              "      background-color: #3B4455;\n",
              "      fill: #D2E3FC;\n",
              "    }\n",
              "\n",
              "    [theme=dark] .colab-df-convert:hover {\n",
              "      background-color: #434B5C;\n",
              "      box-shadow: 0px 1px 3px 1px rgba(0, 0, 0, 0.15);\n",
              "      filter: drop-shadow(0px 1px 2px rgba(0, 0, 0, 0.3));\n",
              "      fill: #FFFFFF;\n",
              "    }\n",
              "  </style>\n",
              "\n",
              "    <script>\n",
              "      const buttonEl =\n",
              "        document.querySelector('#df-e8daa7c9-b2c0-46ba-837f-975cf70d3d44 button.colab-df-convert');\n",
              "      buttonEl.style.display =\n",
              "        google.colab.kernel.accessAllowed ? 'block' : 'none';\n",
              "\n",
              "      async function convertToInteractive(key) {\n",
              "        const element = document.querySelector('#df-e8daa7c9-b2c0-46ba-837f-975cf70d3d44');\n",
              "        const dataTable =\n",
              "          await google.colab.kernel.invokeFunction('convertToInteractive',\n",
              "                                                    [key], {});\n",
              "        if (!dataTable) return;\n",
              "\n",
              "        const docLinkHtml = 'Like what you see? Visit the ' +\n",
              "          '<a target=\"_blank\" href=https://colab.research.google.com/notebooks/data_table.ipynb>data table notebook</a>'\n",
              "          + ' to learn more about interactive tables.';\n",
              "        element.innerHTML = '';\n",
              "        dataTable['output_type'] = 'display_data';\n",
              "        await google.colab.output.renderOutput(dataTable, element);\n",
              "        const docLink = document.createElement('div');\n",
              "        docLink.innerHTML = docLinkHtml;\n",
              "        element.appendChild(docLink);\n",
              "      }\n",
              "    </script>\n",
              "  </div>\n",
              "\n",
              "\n",
              "<div id=\"df-6820b8ff-30c2-462b-baef-0822a6a63558\">\n",
              "  <button class=\"colab-df-quickchart\" onclick=\"quickchart('df-6820b8ff-30c2-462b-baef-0822a6a63558')\"\n",
              "            title=\"Suggest charts\"\n",
              "            style=\"display:none;\">\n",
              "\n",
              "<svg xmlns=\"http://www.w3.org/2000/svg\" height=\"24px\"viewBox=\"0 0 24 24\"\n",
              "     width=\"24px\">\n",
              "    <g>\n",
              "        <path d=\"M19 3H5c-1.1 0-2 .9-2 2v14c0 1.1.9 2 2 2h14c1.1 0 2-.9 2-2V5c0-1.1-.9-2-2-2zM9 17H7v-7h2v7zm4 0h-2V7h2v10zm4 0h-2v-4h2v4z\"/>\n",
              "    </g>\n",
              "</svg>\n",
              "  </button>\n",
              "\n",
              "<style>\n",
              "  .colab-df-quickchart {\n",
              "      --bg-color: #E8F0FE;\n",
              "      --fill-color: #1967D2;\n",
              "      --hover-bg-color: #E2EBFA;\n",
              "      --hover-fill-color: #174EA6;\n",
              "      --disabled-fill-color: #AAA;\n",
              "      --disabled-bg-color: #DDD;\n",
              "  }\n",
              "\n",
              "  [theme=dark] .colab-df-quickchart {\n",
              "      --bg-color: #3B4455;\n",
              "      --fill-color: #D2E3FC;\n",
              "      --hover-bg-color: #434B5C;\n",
              "      --hover-fill-color: #FFFFFF;\n",
              "      --disabled-bg-color: #3B4455;\n",
              "      --disabled-fill-color: #666;\n",
              "  }\n",
              "\n",
              "  .colab-df-quickchart {\n",
              "    background-color: var(--bg-color);\n",
              "    border: none;\n",
              "    border-radius: 50%;\n",
              "    cursor: pointer;\n",
              "    display: none;\n",
              "    fill: var(--fill-color);\n",
              "    height: 32px;\n",
              "    padding: 0;\n",
              "    width: 32px;\n",
              "  }\n",
              "\n",
              "  .colab-df-quickchart:hover {\n",
              "    background-color: var(--hover-bg-color);\n",
              "    box-shadow: 0 1px 2px rgba(60, 64, 67, 0.3), 0 1px 3px 1px rgba(60, 64, 67, 0.15);\n",
              "    fill: var(--button-hover-fill-color);\n",
              "  }\n",
              "\n",
              "  .colab-df-quickchart-complete:disabled,\n",
              "  .colab-df-quickchart-complete:disabled:hover {\n",
              "    background-color: var(--disabled-bg-color);\n",
              "    fill: var(--disabled-fill-color);\n",
              "    box-shadow: none;\n",
              "  }\n",
              "\n",
              "  .colab-df-spinner {\n",
              "    border: 2px solid var(--fill-color);\n",
              "    border-color: transparent;\n",
              "    border-bottom-color: var(--fill-color);\n",
              "    animation:\n",
              "      spin 1s steps(1) infinite;\n",
              "  }\n",
              "\n",
              "  @keyframes spin {\n",
              "    0% {\n",
              "      border-color: transparent;\n",
              "      border-bottom-color: var(--fill-color);\n",
              "      border-left-color: var(--fill-color);\n",
              "    }\n",
              "    20% {\n",
              "      border-color: transparent;\n",
              "      border-left-color: var(--fill-color);\n",
              "      border-top-color: var(--fill-color);\n",
              "    }\n",
              "    30% {\n",
              "      border-color: transparent;\n",
              "      border-left-color: var(--fill-color);\n",
              "      border-top-color: var(--fill-color);\n",
              "      border-right-color: var(--fill-color);\n",
              "    }\n",
              "    40% {\n",
              "      border-color: transparent;\n",
              "      border-right-color: var(--fill-color);\n",
              "      border-top-color: var(--fill-color);\n",
              "    }\n",
              "    60% {\n",
              "      border-color: transparent;\n",
              "      border-right-color: var(--fill-color);\n",
              "    }\n",
              "    80% {\n",
              "      border-color: transparent;\n",
              "      border-right-color: var(--fill-color);\n",
              "      border-bottom-color: var(--fill-color);\n",
              "    }\n",
              "    90% {\n",
              "      border-color: transparent;\n",
              "      border-bottom-color: var(--fill-color);\n",
              "    }\n",
              "  }\n",
              "</style>\n",
              "\n",
              "  <script>\n",
              "    async function quickchart(key) {\n",
              "      const quickchartButtonEl =\n",
              "        document.querySelector('#' + key + ' button');\n",
              "      quickchartButtonEl.disabled = true;  // To prevent multiple clicks.\n",
              "      quickchartButtonEl.classList.add('colab-df-spinner');\n",
              "      try {\n",
              "        const charts = await google.colab.kernel.invokeFunction(\n",
              "            'suggestCharts', [key], {});\n",
              "      } catch (error) {\n",
              "        console.error('Error during call to suggestCharts:', error);\n",
              "      }\n",
              "      quickchartButtonEl.classList.remove('colab-df-spinner');\n",
              "      quickchartButtonEl.classList.add('colab-df-quickchart-complete');\n",
              "    }\n",
              "    (() => {\n",
              "      let quickchartButtonEl =\n",
              "        document.querySelector('#df-6820b8ff-30c2-462b-baef-0822a6a63558 button');\n",
              "      quickchartButtonEl.style.display =\n",
              "        google.colab.kernel.accessAllowed ? 'block' : 'none';\n",
              "    })();\n",
              "  </script>\n",
              "</div>\n",
              "    </div>\n",
              "  </div>\n"
            ],
            "application/vnd.google.colaboratory.intrinsic+json": {
              "type": "dataframe",
              "variable_name": "iris_df",
              "summary": "{\n  \"name\": \"iris_df\",\n  \"rows\": 150,\n  \"fields\": [\n    {\n      \"column\": \"SepalLengthCm\",\n      \"properties\": {\n        \"dtype\": \"number\",\n        \"std\": 0.828066127977863,\n        \"min\": 4.3,\n        \"max\": 7.9,\n        \"num_unique_values\": 35,\n        \"samples\": [\n          6.2,\n          4.5,\n          5.6\n        ],\n        \"semantic_type\": \"\",\n        \"description\": \"\"\n      }\n    },\n    {\n      \"column\": \"SepalWidthCm\",\n      \"properties\": {\n        \"dtype\": \"number\",\n        \"std\": 0.4335943113621737,\n        \"min\": 2.0,\n        \"max\": 4.4,\n        \"num_unique_values\": 23,\n        \"samples\": [\n          2.3,\n          4.0,\n          3.5\n        ],\n        \"semantic_type\": \"\",\n        \"description\": \"\"\n      }\n    },\n    {\n      \"column\": \"PetalLengthCm\",\n      \"properties\": {\n        \"dtype\": \"number\",\n        \"std\": 1.7644204199522626,\n        \"min\": 1.0,\n        \"max\": 6.9,\n        \"num_unique_values\": 43,\n        \"samples\": [\n          6.7,\n          3.8,\n          3.7\n        ],\n        \"semantic_type\": \"\",\n        \"description\": \"\"\n      }\n    },\n    {\n      \"column\": \"PetalWidthCm\",\n      \"properties\": {\n        \"dtype\": \"number\",\n        \"std\": 0.7631607417008411,\n        \"min\": 0.1,\n        \"max\": 2.5,\n        \"num_unique_values\": 22,\n        \"samples\": [\n          0.2,\n          1.2,\n          1.3\n        ],\n        \"semantic_type\": \"\",\n        \"description\": \"\"\n      }\n    },\n    {\n      \"column\": \"Species\",\n      \"properties\": {\n        \"dtype\": \"date\",\n        \"min\": -1,\n        \"max\": 1,\n        \"num_unique_values\": 2,\n        \"samples\": [\n          -1,\n          1\n        ],\n        \"semantic_type\": \"\",\n        \"description\": \"\"\n      }\n    }\n  ]\n}"
            }
          },
          "metadata": {},
          "execution_count": 78
        }
      ]
    },
    {
      "cell_type": "code",
      "source": [
        "x=iris_df.iloc[:,:-1]\n",
        "y=iris_df.iloc[:,-1]\n",
        "b=np.ones(150)\n",
        "x['Augmentation']=b\n",
        "# # print(x)\n",
        "# print(y)\n",
        "class1_x=x.iloc[:50,:]\n",
        "# print(class1_x)\n",
        "class2_x=x.iloc[50:,:]\n",
        "# print(class2_x)\n",
        "class1_y=y.iloc[:50]\n",
        "class2_y=y.iloc[50:]\n",
        "# print(class1_y)"
      ],
      "metadata": {
        "id": "-jrlzUkrqpdB"
      },
      "execution_count": null,
      "outputs": []
    },
    {
      "cell_type": "code",
      "source": [
        "x1_train,x1_test,y1_train,y1_test= train_test_split(class1_x,class1_y,test_size=0.2,random_state=True)\n",
        "x2_train,x2_test,y2_train,y2_test= train_test_split(class2_x,class2_y,test_size=0.2,random_state=True)"
      ],
      "metadata": {
        "id": "-o4UTSBYqvSD"
      },
      "execution_count": null,
      "outputs": []
    },
    {
      "cell_type": "code",
      "source": [
        "x1_train=np.asarray(x1_train)\n",
        "x1_test=np.asarray(x1_test)\n",
        "y1_train=np.asarray(y1_train)\n",
        "y1_test=np.asarray(y1_test)\n",
        "x2_train=np.asarray(x2_train)\n",
        "x2_test=np.asarray(x2_test)\n",
        "y2_train=np.asarray(y2_train)\n",
        "y2_test=np.asarray(y2_test)\n",
        "print(x1_test)"
      ],
      "metadata": {
        "id": "YDKOZVpyr-hX",
        "colab": {
          "base_uri": "https://localhost:8080/"
        },
        "outputId": "919e8696-eb87-4643-ac7d-47baaf9d3d1b"
      },
      "execution_count": null,
      "outputs": [
        {
          "output_type": "stream",
          "name": "stdout",
          "text": [
            "[[5.2 3.5 1.5 0.2 1. ]\n",
            " [5.  3.2 1.2 0.2 1. ]\n",
            " [5.  3.5 1.3 0.3 1. ]\n",
            " [4.4 3.  1.3 0.2 1. ]\n",
            " [4.7 3.2 1.3 0.2 1. ]\n",
            " [4.6 3.1 1.5 0.2 1. ]\n",
            " [5.3 3.7 1.5 0.2 1. ]\n",
            " [4.7 3.2 1.6 0.2 1. ]\n",
            " [5.1 3.8 1.6 0.2 1. ]\n",
            " [5.4 3.4 1.5 0.4 1. ]]\n"
          ]
        }
      ]
    },
    {
      "cell_type": "code",
      "source": [
        "def msse(x_train,y_train):\n",
        "  x_transpose=x_train.T\n",
        "  xtranspose_timesx=np.dot(x_transpose,x_train)\n",
        "  # print(xtranspose_timesx)\n",
        "  xtranspose_timesx=np.linalg.inv(xtranspose_timesx)\n",
        "  xtx_inv_xt=np.dot(xtranspose_timesx,x_transpose)\n",
        "  all_dot_y=np.dot(xtx_inv_xt,y_train)\n",
        "  return all_dot_y\n",
        "\n",
        "weights_class1=msse(x1_train,y1_train)\n",
        "weights_class2=msse(x2_train,y2_train)\n",
        "print(weights_class1)\n",
        "print(weights_class2)"
      ],
      "metadata": {
        "colab": {
          "base_uri": "https://localhost:8080/"
        },
        "id": "4LyeMsY1E540",
        "outputId": "ede6718f-c1c7-4b43-9ea0-65303f029174"
      },
      "execution_count": null,
      "outputs": [
        {
          "output_type": "stream",
          "name": "stdout",
          "text": [
            "[5.10702591327572e-15 -1.1879386363489175e-14 1.2212453270876722e-15\n",
            " 1.226796442210798e-14 1.000000000000048]\n",
            "[-2.0650148258027912e-14 -2.0816681711721685e-15 9.33975119465913e-15\n",
            " -3.282096816548119e-15 -0.9999999999999614]\n"
          ]
        }
      ]
    },
    {
      "cell_type": "code",
      "source": [
        "class1_ypredict=np.dot(x1_test,weights_class1)\n",
        "class2_ypredict=np.dot(x2_test,weights_class2)\n",
        "# mse=mean_squared_error(y1_test,class1_ypredict)\n",
        "# print(\"mean squared error is: \", mse)\n",
        "print(class1_ypredict)\n",
        "print(y1_test)\n",
        "print(class2_ypredict)\n",
        "print(y2_test)"
      ],
      "metadata": {
        "colab": {
          "base_uri": "https://localhost:8080/"
        },
        "id": "qv_u213SehhB",
        "outputId": "4fb5c0ae-3f92-4876-93e9-01b56b0800b4"
      },
      "execution_count": null,
      "outputs": [
        {
          "output_type": "stream",
          "name": "stdout",
          "text": [
            "[1.0000000000000373 1.0000000000000393 1.000000000000037\n",
            " 1.0000000000000389 1.000000000000038 1.0000000000000389\n",
            " 1.0000000000000353 1.0000000000000384 1.0000000000000333\n",
            " 1.000000000000042]\n",
            "[1 1 1 1 1 1 1 1 1 1]\n",
            "[-1.0000000000000693 -1.000000000000045 -1.0000000000000484\n",
            " -1.0000000000000793 -1.0000000000000608 -1.0000000000000517\n",
            " -1.0000000000000673 -1.0000000000000542 -1.000000000000048\n",
            " -1.0000000000000582 -1.0000000000000453 -1.000000000000047\n",
            " -1.0000000000000313 -1.000000000000066 -1.0000000000000453\n",
            " -1.0000000000000542 -1.0000000000000486 -1.0000000000000477\n",
            " -1.000000000000054 -1.0000000000000393]\n",
            "[-1 -1 -1 -1 -1 -1 -1 -1 -1 -1 -1 -1 -1 -1 -1 -1 -1 -1 -1 -1]\n"
          ]
        }
      ]
    },
    {
      "cell_type": "code",
      "source": [
        "from sklearn.metrics import accuracy_score\n",
        "ypredict=np.concatenate((class1_ypredict,class2_ypredict))\n",
        "y_test=np.concatenate((y1_test,y2_test))\n",
        "ypredict_binary = np.where(ypredict > 0, 1, 0)\n",
        "y_test_binary = np.where(y_test > 0, 1, 0)\n",
        "accuracy=accuracy_score(y_test_binary,ypredict_binary)\n",
        "print(\"the accuracy for the linear classification model is: \",accuracy)"
      ],
      "metadata": {
        "colab": {
          "base_uri": "https://localhost:8080/"
        },
        "id": "yCytjF5BlfgA",
        "outputId": "46e911a3-50a3-4d97-da31-691bbce1825b"
      },
      "execution_count": null,
      "outputs": [
        {
          "output_type": "stream",
          "name": "stdout",
          "text": [
            "the accuracy for the linear classification model is:  1.0\n"
          ]
        }
      ]
    }
  ]
}