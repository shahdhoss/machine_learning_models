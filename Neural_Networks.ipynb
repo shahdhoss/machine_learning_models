{
  "nbformat": 4,
  "nbformat_minor": 0,
  "metadata": {
    "colab": {
      "provenance": [],
      "gpuType": "V28"
    },
    "kernelspec": {
      "name": "python3",
      "display_name": "Python 3"
    },
    "language_info": {
      "name": "python"
    },
    "accelerator": "TPU"
  },
  "cells": [
    {
      "cell_type": "code",
      "execution_count": null,
      "metadata": {
        "id": "A6u4SOwQmRam"
      },
      "outputs": [],
      "source": [
        "import numpy as np\n",
        "import matplotlib.pyplot as plt\n",
        "from keras.datasets import mnist\n",
        "from keras.utils import to_categorical\n",
        "from sklearn.metrics import confusion_matrix"
      ]
    },
    {
      "cell_type": "code",
      "source": [
        "(x_train, y_train), (x_test, y_test) = mnist.load_data()\n",
        "print(y_train)\n",
        "fig, axes = plt.subplots(ncols=5, sharex=False,\n",
        "    sharey=True, figsize=(10, 4))\n",
        "\n",
        "for i in range(5):\n",
        "    axes[i].set_title(y_train[i])\n",
        "    axes[i].imshow(x_train[i], cmap='gray')\n",
        "    axes[i].get_xaxis().set_visible(False)\n",
        "    axes[i].get_yaxis().set_visible(False)\n",
        "plt.show()"
      ],
      "metadata": {
        "id": "9dYbJxp8mduy",
        "colab": {
          "base_uri": "https://localhost:8080/",
          "height": 209
        },
        "outputId": "43a9eb9b-f021-49bd-9054-56d78100dd59"
      },
      "execution_count": null,
      "outputs": [
        {
          "output_type": "stream",
          "name": "stdout",
          "text": [
            "[5 0 4 ... 5 6 8]\n"
          ]
        },
        {
          "output_type": "display_data",
          "data": {
            "text/plain": [
              "<Figure size 1000x400 with 5 Axes>"
            ],
            "image/png": "[encoded data removed]"
          },
          "metadata": {}
        }
      ]
    },
    {
      "cell_type": "code",
      "source": [
        "x_train = x_train.reshape(x_train.shape[0], -1)\n",
        "x_test = x_test.reshape(x_test.shape[0], -1)\n",
        "\n",
        "temp = []\n",
        "print(y_train.shape)\n",
        "for i in range(len(y_train)):\n",
        "    temp.append(to_categorical(y_train[i], num_classes=10))\n",
        "y_train = np.array(temp)\n",
        "print(y_train.shape)\n",
        "print(y_train)\n",
        "\n",
        "# temp = []\n",
        "# for i in range(len(y_test)):\n",
        "#     temp.append(to_categorical(y_test[i], num_classes=10))\n",
        "# y_test = np.array(temp)\n",
        "# print(x_train.shape)"
      ],
      "metadata": {
        "id": "-uiI9e42melq",
        "colab": {
          "base_uri": "https://localhost:8080/"
        },
        "outputId": "12fa65c0-bcda-43b8-8dc3-588dd22241c3"
      },
      "execution_count": null,
      "outputs": [
        {
          "output_type": "stream",
          "name": "stdout",
          "text": [
            "(60000,)\n",
            "(60000, 10)\n",
            "[[0. 0. 0. ... 0. 0. 0.]\n",
            " [1. 0. 0. ... 0. 0. 0.]\n",
            " [0. 0. 0. ... 0. 0. 0.]\n",
            " ...\n",
            " [0. 0. 0. ... 0. 0. 0.]\n",
            " [0. 0. 0. ... 0. 0. 0.]\n",
            " [0. 0. 0. ... 0. 1. 0.]]\n"
          ]
        }
      ]
    },
    {
      "cell_type": "code",
      "source": [
        "def init_weights():\n",
        "    w1 = np.random.randn(784,10) -0.5\n",
        "    b1 = np.zeros((1,10))-0.5\n",
        "    w2 = np.random.randn(10, 10) -0.5\n",
        "    b2 = np.zeros((1,10))-0.5\n",
        "    return w1, b1, w2, b2\n",
        "\n",
        "w1,b1,w2,b2=init_weights()"
      ],
      "metadata": {
        "id": "SPOYfmIonCIq"
      },
      "execution_count": null,
      "outputs": []
    },
    {
      "cell_type": "code",
      "source": [
        "def sigmoid(function):\n",
        "  return 1/(1+ np.e ** -function)\n",
        "\n",
        "def sigmoid_deriv(function):\n",
        "  sigmoid_x = 1 / (1 + np.exp(-function))\n",
        "  return sigmoid_x * (1 - sigmoid_x)\n",
        "\n",
        "def ReLU(z):\n",
        "  return np.maximum(0,z)\n",
        "\n",
        "def ReLUPrime(z):\n",
        "  a=ReLU(z)\n",
        "  return a>0\n",
        "\n",
        "def one_hot(Y):\n",
        "    one_hot_Y = np.zeros((Y.size, Y.max() + 1))\n",
        "    one_hot_Y[np.arange(Y.size), Y] = 1\n",
        "    return one_hot_Y\n",
        "\n",
        "def softmax(function):\n",
        "  return np.exp(function)/np.sum(np.exp(function))\n",
        "\n",
        "def forward_prop(x_train,w1,b1,w2,b2):\n",
        "    z1 = np.dot(x_train, w1) + b1\n",
        "    a1 = ReLU(z1)\n",
        "    z2 = np.dot(a1, w2) + b2\n",
        "    a2 = ReLU(z2)\n",
        "    return z1, a1, z2, a2\n",
        "\n",
        "z1,output_layer1,z2,output_layer2=forward_prop(x_train,w1,b1,w2,b2)"
      ],
      "metadata": {
        "id": "w1Sy8FH3nfnz"
      },
      "execution_count": null,
      "outputs": []
    },
    {
      "cell_type": "code",
      "source": [
        "def backward_prop(x_train, y_train,a1,a2,z1,z2,w1,b1,w2,b2,learning_rate=0.1):\n",
        "    m = x_train.shape[0]\n",
        "    delta2 = a2 - y_train\n",
        "    dw2 = np.dot(a1.T, delta2)\n",
        "    db2 = np.sum(delta2)\n",
        "    delta1 = np.dot(delta2,w2.T) * ReLUPrime(z1)\n",
        "    dw1 = np.dot(x_train.T, delta1)\n",
        "    db1 = np.sum(delta1)\n",
        "    w2 += learning_rate * dw2\n",
        "    b2 += learning_rate * db2\n",
        "    w1 += learning_rate * dw1\n",
        "    b1 += learning_rate * db1\n",
        "    return w1, b1, w2, b2"
      ],
      "metadata": {
        "id": "wkVp2lrOoTKB"
      },
      "execution_count": null,
      "outputs": []
    },
    {
      "cell_type": "code",
      "source": [
        "def get_predictions(output):\n",
        "    return np.argmax(output, 0)\n",
        "\n",
        "for epoch in range(20):\n",
        "      z1,output_layer1,z2,output_layer2 = forward_prop(x_train, w1, b1, w2, b2)\n",
        "      w1, b1, w2, b2 = backward_prop(x_train,y_train,output_layer1,output_layer2,z1,z2,w1,b1,w2,b2)\n",
        "      prediction=get_predictions(output_layer2)\n",
        "      accuracy = np.sum(y_train == prediction)/y_train.sum()\n",
        "      print(\"accuracy:  \", accuracy)\n",
        "      # print(epoch)"
      ],
      "metadata": {
        "id": "aJ84MdZb1IFE",
        "colab": {
          "base_uri": "https://localhost:8080/"
        },
        "outputId": "dd2b3f4f-d08d-480a-8c1a-5a2cce4e4534"
      },
      "execution_count": null,
      "outputs": [
        {
          "output_type": "stream",
          "name": "stdout",
          "text": [
            "accuracy:   4.5115\n",
            "accuracy:   4.5115\n",
            "accuracy:   4.5115\n",
            "accuracy:   4.5115\n",
            "accuracy:   9.0\n",
            "accuracy:   9.0\n",
            "accuracy:   9.0\n",
            "accuracy:   9.0\n",
            "accuracy:   9.0\n",
            "accuracy:   9.0\n",
            "accuracy:   9.0\n",
            "accuracy:   9.0\n",
            "accuracy:   9.0\n",
            "accuracy:   9.0\n",
            "accuracy:   9.0\n",
            "accuracy:   9.0\n",
            "accuracy:   9.0\n",
            "accuracy:   9.0\n",
            "accuracy:   9.0\n",
            "accuracy:   9.0\n"
          ]
        }
      ]
    }
  ]
}