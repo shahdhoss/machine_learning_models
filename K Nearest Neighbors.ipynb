{
  "nbformat": 4,
  "nbformat_minor": 0,
  "metadata": {
    "colab": {
      "provenance": []
    },
    "kernelspec": {
      "name": "python3",
      "display_name": "Python 3"
    },
    "language_info": {
      "name": "python"
    }
  },
  "cells": [
    {
      "cell_type": "code",
      "execution_count": null,
      "metadata": {
        "id": "X3ldG2L8NVdB"
      },
      "outputs": [],
      "source": [
        "import pandas as pd\n",
        "import numpy as np\n",
        "import seaborn as sns\n",
        "import matplotlib.pyplot as plt\n",
        "from collections import Counter\n",
        "from sklearn.metrics import accuracy_score\n",
        "from sklearn.neighbors import KNeighborsClassifier\n",
        "from sklearn.model_selection import train_test_split"
      ]
    },
    {
      "cell_type": "code",
      "source": [
        "iris_df= pd.read_csv(\"/content/sample_data/Iris.csv\")\n",
        "\n",
        "iris_df.drop(columns=[\"Id\"],inplace=True)\n",
        "x=iris_df.iloc[:,:-1]\n",
        "y=iris_df.iloc[:,-1]\n",
        "x_train,x_test,y_train,y_test = train_test_split(x,y,test_size=0.2, shuffle=True)"
      ],
      "metadata": {
        "id": "MzO8RczFN9UD"
      },
      "execution_count": null,
      "outputs": []
    },
    {
      "cell_type": "code",
      "source": [
        "x_train = np.asarray(x_train)\n",
        "x_test = np.asarray(x_test)\n",
        "y_train = np.asarray(y_train)\n",
        "y_test = np.asarray(y_test)\n",
        "# print(x_train)\n",
        "# print(y_train)"
      ],
      "metadata": {
        "id": "VQNw5Bc1PUNr"
      },
      "execution_count": null,
      "outputs": []
    },
    {
      "cell_type": "code",
      "source": [
        "def distance(x_train, test_point):\n",
        "  distances=[]\n",
        "  for i in range(len(x_train)):\n",
        "    current_distance=0\n",
        "    for j in range(len(x_train[i])):\n",
        "      current_distance=current_distance + abs(test_point[j]-x_train[i][j])\n",
        "    distances.append(current_distance)\n",
        "  distance_df= pd.DataFrame(data=distances, columns=['distance'])\n",
        "  return distance_df\n",
        "print(distance(x_train,x_train[0]))"
      ],
      "metadata": {
        "id": "NkAavuTdQPAQ",
        "colab": {
          "base_uri": "https://localhost:8080/"
        },
        "outputId": "9d928294-3a27-41d4-cb2a-3e42a66717d9"
      },
      "execution_count": null,
      "outputs": [
        {
          "output_type": "stream",
          "name": "stdout",
          "text": [
            "     distance\n",
            "0         0.0\n",
            "1         7.7\n",
            "2         1.1\n",
            "3         5.1\n",
            "4         1.7\n",
            "..        ...\n",
            "115       2.0\n",
            "116       6.9\n",
            "117       7.4\n",
            "118       6.7\n",
            "119       7.2\n",
            "\n",
            "[120 rows x 1 columns]\n"
          ]
        }
      ]
    },
    {
      "cell_type": "code",
      "source": [
        "def nearest_points(distances, K):\n",
        "  distances= distances.sort_values(by=['distance'])\n",
        "  return distances.head(K)\n",
        "\n",
        "distances=distance(x_train, x_train[0])\n",
        "print(nearest_points(distances,7))"
      ],
      "metadata": {
        "id": "NqmjMmK3RZcU",
        "colab": {
          "base_uri": "https://localhost:8080/"
        },
        "outputId": "12b29aa1-7b43-49cf-89d2-7b6bb7580557"
      },
      "execution_count": null,
      "outputs": [
        {
          "output_type": "stream",
          "name": "stdout",
          "text": [
            "     distance\n",
            "0         0.0\n",
            "100       0.4\n",
            "103       0.7\n",
            "20        0.7\n",
            "48        0.7\n",
            "9         0.8\n",
            "109       0.8\n"
          ]
        }
      ]
    },
    {
      "cell_type": "code",
      "source": [
        "def voting(nearest_points,y_train):\n",
        "  counter_vote = Counter(y_train[nearest_points.index])\n",
        "  y_pred = counter_vote.most_common()[0][0]\n",
        "  return y_pred\n",
        "\n",
        "distances=distance(x_train, x_train[0])\n",
        "nearp=nearest_points(distances,3)\n",
        "print(voting(nearp,y_train))"
      ],
      "metadata": {
        "id": "zwuPFDpETmLc",
        "colab": {
          "base_uri": "https://localhost:8080/"
        },
        "outputId": "d8d4feef-0c84-4285-b32c-98cfe5fc33b7"
      },
      "execution_count": null,
      "outputs": [
        {
          "output_type": "stream",
          "name": "stdout",
          "text": [
            "Iris-virginica\n"
          ]
        }
      ]
    },
    {
      "cell_type": "code",
      "source": [
        "def knn_all(x_train,y_train,x_test,K):\n",
        "  predictions=[]\n",
        "  for i in x_test:\n",
        "    distances=distance(x_train,i)\n",
        "    near_points=nearest_points(distances, K)\n",
        "    predictions.append(voting(near_points,y_train))\n",
        "  return predictions\n",
        "\n",
        "# with unnormalized data\n",
        "k3_unnormalized=knn_all(x_train,y_train,x_test,3)\n",
        "k5_unnormalized=knn_all(x_train,y_train,x_test,5)\n",
        "k7_unnormalized=knn_all(x_train,y_train,x_test,7)"
      ],
      "metadata": {
        "id": "xNpSSD6LU3Na"
      },
      "execution_count": null,
      "outputs": []
    },
    {
      "cell_type": "code",
      "source": [
        "# with normalized data\n",
        "from sklearn.preprocessing import Normalizer\n",
        "scaler= Normalizer()\n",
        "normalize_x_train=scaler.transform(x_train)\n",
        "normalize_x_test=scaler.transform(x_test)\n"
      ],
      "metadata": {
        "id": "c5fajOcgW1CG"
      },
      "execution_count": null,
      "outputs": []
    },
    {
      "cell_type": "code",
      "source": [
        "k3_normalized=knn_all(normalize_x_train,y_train,normalize_x_test,3)\n",
        "k5_normalized=knn_all(normalize_x_train,y_train,normalize_x_test,5)\n",
        "k7_normalized=knn_all(normalize_x_train,y_train,normalize_x_test,7)\n"
      ],
      "metadata": {
        "id": "9uAOSYnlbnbD"
      },
      "execution_count": null,
      "outputs": []
    },
    {
      "cell_type": "code",
      "source": [
        "# accuracy\n",
        "print(\"accuracy in un-normalized, k=3\", accuracy_score(y_test,k3_unnormalized))\n",
        "print(\"accuracy in un-normalized, k=5\", accuracy_score(y_test,k5_unnormalized))\n",
        "print(\"accuracy in un-normalized, k=7\", accuracy_score(y_test,k7_unnormalized))\n",
        "print(\"accuracy in normalized, k=3\", accuracy_score(y_test,k3_normalized))\n",
        "print(\"accuracy in normalized, k=5\", accuracy_score(y_test,k5_normalized))\n",
        "print(\"accuracy in normalized, k=7\", accuracy_score(y_test,k7_normalized))\n",
        "\n",
        "# the accuracy got better as we increased the k, normalizing the data did a slight difference."
      ],
      "metadata": {
        "colab": {
          "base_uri": "https://localhost:8080/"
        },
        "id": "6jFaOj2qcVyz",
        "outputId": "f037c0ac-bd55-42ec-b583-6be1e57513d0"
      },
      "execution_count": null,
      "outputs": [
        {
          "output_type": "stream",
          "name": "stdout",
          "text": [
            "accuracy in un-normalized, k=3 0.9\n",
            "accuracy in un-normalized, k=5 0.9\n",
            "accuracy in un-normalized, k=7 0.9333333333333333\n",
            "accuracy in normalized, k=3 0.9666666666666667\n",
            "accuracy in normalized, k=5 0.9333333333333333\n",
            "accuracy in normalized, k=7 0.9666666666666667\n"
          ]
        }
      ]
    }
  ]
}